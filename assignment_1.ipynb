{
  "nbformat": 4,
  "nbformat_minor": 0,
  "metadata": {
    "colab": {
      "provenance": [],
      "collapsed_sections": [],
      "authorship_tag": "ABX9TyMF7yc7kj1TiBTYEuRlCeeQ",
      "include_colab_link": true
    },
    "kernelspec": {
      "name": "python3",
      "display_name": "Python 3"
    },
    "language_info": {
      "name": "python"
    }
  },
  "cells": [
    {
      "cell_type": "markdown",
      "metadata": {
        "id": "view-in-github",
        "colab_type": "text"
      },
      "source": [
        "<a href=\"https://colab.research.google.com/github/vishalbhardwaj546/Digital-Guitar-Effects/blob/master/assignment_1.ipynb\" target=\"_parent\"><img src=\"https://colab.research.google.com/assets/colab-badge.svg\" alt=\"Open In Colab\"/></a>"
      ]
    },
    {
      "cell_type": "code",
      "execution_count": 57,
      "metadata": {
        "id": "a21qlzDE4KnT"
      },
      "outputs": [],
      "source": [
        "\n",
        "import numpy as np\n",
        "import pandas as pd\n",
        "import matplotlib.pyplot as plt\n",
        "\n",
        "from scipy.spatial import ConvexHull\n"
      ]
    },
    {
      "cell_type": "markdown",
      "source": [
        "##### **Answer 1.1**"
      ],
      "metadata": {
        "id": "__d3qf_PYmCF"
      }
    },
    {
      "cell_type": "code",
      "source": [
        "X1 = np.array([[-1,-1],[1,1],[-3,-3],[4,4]])\n",
        "X2 = np.array([[-1,1],[1,-1],[-5,2],[4,-8]])\n",
        "\n",
        "#Defining hulls for both the sets.\n",
        "hullX1 = ConvexHull(X1, qhull_options='QJ')\n",
        "hullX2 = ConvexHull(X2, qhull_options='QJ')\n",
        "\n",
        "#Plotting Points\n",
        "plt.plot(X1[:,0],X1[:,1],'o', label='X1')\n",
        "plt.plot(X2[:,0],X2[:,1],'o', label='X2')\n",
        "\n",
        "#Plotting hulls\n",
        "for simplex in hullX1.simplices:\n",
        "  plt.plot(X1[simplex,0],X1[simplex,1],color='blue')\n",
        "\n",
        "for simplex in hullX2.simplices:\n",
        "  plt.plot(X2[simplex,0],X2[simplex,1], color='green')\n",
        "\n",
        "plt.legend()\n",
        "plt.xlabel('X1')\n",
        "plt.ylabel('Y1')\n",
        "plt.grid()\n",
        "\n"
      ],
      "metadata": {
        "colab": {
          "base_uri": "https://localhost:8080/",
          "height": 279
        },
        "id": "CoAkVA_RKCjY",
        "outputId": "f1a68fb2-3406-4266-d694-983eb1e44cc2"
      },
      "execution_count": 58,
      "outputs": [
        {
          "output_type": "display_data",
          "data": {
            "text/plain": [
              "<Figure size 432x288 with 1 Axes>"
            ],
            "image/png": "[encoded data removed]"
          },
          "metadata": {
            "needs_background": "light"
          }
        }
      ]
    },
    {
      "cell_type": "markdown",
      "source": [
        "From the above plot, we can clearly see that the intersection of the two hulls is not empty. Therefore, we can conclude that X1 and X2 are not linearly inseparable. <br>\n",
        "No, a linear classifier can not be trained on the two features on this data set as is."
      ],
      "metadata": {
        "id": "RAiZpc1NT_zI"
      }
    },
    {
      "cell_type": "markdown",
      "source": [
        "##### **Answer 1.2**"
      ],
      "metadata": {
        "id": "46Bt8BCeMDmw"
      }
    },
    {
      "cell_type": "markdown",
      "source": [
        "We can define the new set 'z' such that (x_new,y_new) in z where x_new and y_new are (x*y) where (x,y) is an element in either X1 or X2.\n"
      ],
      "metadata": {
        "id": "1WmnmQRlYuLb"
      }
    },
    {
      "cell_type": "code",
      "source": [
        "#New representation with linearly separable elements\n",
        "X1_new = np.array([[1,1],[1,1],[9,9],[16,16]])\n",
        "X2_new = np.array([[-1,-1],[-1,-1],[-10,-10],[-32,-32]])\n",
        "\n",
        "#Plotting new points\n",
        "plt.plot(X1_new[:,0],X1_new[:,1],'.', label='X1_new')\n",
        "plt.plot(X2_new[:,0],X2_new[:,1],'.', label='X2_new')\n",
        "plt.legend()\n",
        "plt.grid()"
      ],
      "metadata": {
        "colab": {
          "base_uri": "https://localhost:8080/",
          "height": 265
        },
        "id": "gliteTM4uxSN",
        "outputId": "86bf7405-6ff2-40d9-8585-0d06b631b7d8"
      },
      "execution_count": 59,
      "outputs": [
        {
          "output_type": "display_data",
          "data": {
            "text/plain": [
              "<Figure size 432x288 with 1 Axes>"
            ],
            "image/png": "[encoded data removed]"
          },
          "metadata": {
            "needs_background": "light"
          }
        }
      ]
    },
    {
      "cell_type": "markdown",
      "source": [
        "##### **Answer 1.3**"
      ],
      "metadata": {
        "id": "0sMG1vCyYwGX"
      }
    },
    {
      "cell_type": "markdown",
      "source": [
        "x+y=0 is the separating hyperplane."
      ],
      "metadata": {
        "id": "o_aMieq6YwfH"
      }
    },
    {
      "cell_type": "markdown",
      "source": [
        "##### **Answer 1.4**"
      ],
      "metadata": {
        "id": "79Dzeg2gYw3u"
      }
    },
    {
      "cell_type": "markdown",
      "source": [
        "Nonlinear transformations allow the user to convert linearly inseparable data points to a new set of data which is linearly separable.\n"
      ],
      "metadata": {
        "id": "-lcuvI6WYxK_"
      }
    },
    {
      "cell_type": "markdown",
      "source": [
        "### **Question 2**"
      ],
      "metadata": {
        "id": "ZTRUk0twKZMT"
      }
    },
    {
      "cell_type": "markdown",
      "source": [
        "##### **Answer 2.1**"
      ],
      "metadata": {
        "id": "PlbvC-CmZkPl"
      }
    },
    {
      "cell_type": "markdown",
      "source": [
        "To prove,\n",
        "\n",
        "$MSE = Bias^{2} + Variance + Noise$\n",
        "\n",
        "\n",
        "We know,\n",
        "\n",
        "$MSE = E[(f(x) + \\epsilon - g(x))^2]$\n",
        "\n",
        "Where g(x) is the estimate of f(x), which is $\\hat{f}(x)$.\n",
        "\n",
        "We can expand the expression for MSE as \n",
        "\n",
        "$MSE = E[\\epsilon^2] + E[(f(x) - g(x))^2]  + E[2ϵ(f(x) - g(x))]$\n",
        "\n",
        "Since $E[\\epsilon]$ is 0, the last term is equal to 0.\n",
        "\n",
        "If we add and subtract $E[g(x)]$ in the second term\n",
        "\n",
        "$MSE = E[ϵ^2] + E[(f(x) - E[g(x)] -(g(x)-E[g(x)]))^2]$\n",
        "\n",
        "$MSE = E[ϵ^2] + E[((f(x) - E[g(x)])^2] + E[(g(x)-E[g(x)])^2] - 2*E[(f(x)-E[g(x)])]\\\\*E[(g(x)-E[g(x)])] $ \n",
        "\n",
        "\n",
        "\n",
        "$Since E[(g(x)-E[g(x)])] = 0,$\n",
        "\n",
        "$MSE = E[ϵ^2] + E[((f(x) - E[g(x)])^2] + E[(g(x)-E[g(x)])^2]$\n",
        "\n",
        "Here,\n",
        "\n",
        "$ E[ϵ^2]=Noise $\n",
        "\n",
        "$ E[((f(x) - E[g(x)])^2]=Bias^2 $\n",
        "\n",
        "$ E[(g(x)-E[g(x)])^2]=Variance $\n",
        "\n",
        "Therefore, we can conclude that,\n",
        "\n",
        "$MSE = Bias^{2} + Variance + Noise$"
      ],
      "metadata": {
        "id": "ZNBDmqhRZmj0"
      }
    },
    {
      "cell_type": "markdown",
      "source": [
        "**Answer 2.2**"
      ],
      "metadata": {
        "id": "PrpckmTYNE00"
      }
    },
    {
      "cell_type": "code",
      "source": [
        "np.random.seed(1)\n",
        "\n",
        "#Defining y(x)\n",
        "x = 10*np.random.random(20)\n",
        "x=np.sort(x)\n",
        "noise = np.random.normal(0,np.sqrt(0.3),20)\n",
        "y = x + np.sin(1.5*x) + noise\n",
        "\n",
        "#Defining smooth f(x)\n",
        "xf = np.linspace(0,10,40)\n",
        "f = xf + np.sin(1.5*xf)\n",
        "\n",
        "#Defining subplots design\n",
        "fig, ax = plt.subplots(2, 1)\n",
        "fig.tight_layout(h_pad=2)\n",
        "\n",
        "#Plotting y(x) - Scatterplot\n",
        "plt.subplot(2,1,1)\n",
        "plt.title('Scatterplot y(x)')\n",
        "plt.scatter(x,y)\n",
        "plt.grid()\n",
        "\n",
        "#Plotting f(x) - Smooth Curve\n",
        "plt.subplot(2,1,2)\n",
        "plt.title('Smooth curve f(x)')\n",
        "plt.plot(xf,f)\n",
        "plt.grid()\n"
      ],
      "metadata": {
        "colab": {
          "base_uri": "https://localhost:8080/",
          "height": 309
        },
        "id": "AU5h05wgNHKC",
        "outputId": "45791295-b922-48f9-8784-d237f4ba606a"
      },
      "execution_count": 60,
      "outputs": [
        {
          "output_type": "display_data",
          "data": {
            "text/plain": [
              "<Figure size 432x288 with 2 Axes>"
            ],
            "image/png": "[encoded data removed]"
          },
          "metadata": {
            "needs_background": "light"
          }
        }
      ]
    },
    {
      "cell_type": "markdown",
      "source": [
        "**Answer 2.3**"
      ],
      "metadata": {
        "id": "iNKKpPLUXkBs"
      }
    },
    {
      "cell_type": "code",
      "source": [
        "#Defining estimator functions - g1, g3, g10\n",
        "\n",
        "g1=np.polyfit(x,y,1)\n",
        "g3=np.polyfit(x,y,3)\n",
        "g10=np.polyfit(x,y,10)\n",
        "\n",
        "#Polynomial coefficients\n",
        "print('g1(x) Coefficients:',g1)\n",
        "print('g3(x) Coefficients:',g3)\n",
        "print('g10(x) Coefficients:',g10)\n",
        "\n",
        "\n",
        "xg = np.linspace(0,10,40)\n",
        "val1 = np.array([xg**1, xg**0])\n",
        "val3 = np.array([xg**3, xg**2, xg**1, xg**0])\n",
        "val10 = np.array([xg**10, xg**9, xg**8, xg**7, xg**6, xg**5, xg**4, xg**3, xg**2, xg**1, xg**0])\n",
        "\n",
        "#Fitted values\n",
        "g1_val = np.dot(g1,val1)\n",
        "g3_val = np.dot(g3,val3)\n",
        "g10_val = np.dot(g10,val10)\n",
        "\n",
        "#Defining subplots design\n",
        "fig, ax = plt.subplots(3, 1, figsize=(6,8))\n",
        "fig.tight_layout(h_pad=2)\n",
        "\n",
        "#Comparing g1(x) and f(x) on plot\n",
        "plt.subplot(3,1,1)\n",
        "plt.plot(xf,f,label='f(x)')\n",
        "plt.plot(xg,g1_val,label='g1(x)')\n",
        "plt.legend()\n",
        "plt.grid()\n",
        "\n",
        "#Comparing g3(x) and f(x) on plot\n",
        "plt.subplot(3,1,2)\n",
        "plt.plot(xf,f,label='f(x)')\n",
        "plt.plot(xg,g3_val,label='g3(x)')\n",
        "plt.legend()\n",
        "plt.grid()\n",
        "\n",
        "#Comparing g10(x) and f(x) on plot\n",
        "plt.subplot(3,1,3)\n",
        "plt.plot(xf,f,label='f(x)')\n",
        "plt.plot(xg,g10_val,label='g10(x)')\n",
        "plt.ylim(-5, 15)\n",
        "plt.legend()\n",
        "plt.grid()"
      ],
      "metadata": {
        "colab": {
          "base_uri": "https://localhost:8080/",
          "height": 672
        },
        "id": "xObeIa7TXohX",
        "outputId": "4bf4068e-44a8-4a3a-886d-1ef74e1a1b44"
      },
      "execution_count": 61,
      "outputs": [
        {
          "output_type": "stream",
          "name": "stdout",
          "text": [
            "g1(x) Coefficients: [0.87205757 0.48472644]\n",
            "g3(x) Coefficients: [ 0.00620308 -0.0709917   1.06573676  0.40740593]\n",
            "g10(x) Coefficients: [ 1.52632011e-05 -7.97375574e-04  1.70953856e-02 -1.98799302e-01\n",
            "  1.38688570e+00 -6.03079145e+00  1.63323755e+01 -2.63231436e+01\n",
            "  2.22728795e+01 -6.27264403e+00  6.17356897e-01]\n"
          ]
        },
        {
          "output_type": "display_data",
          "data": {
            "text/plain": [
              "<Figure size 432x576 with 3 Axes>"
            ],
            "image/png": "[encoded data removed]"
          },
          "metadata": {
            "needs_background": "light"
          }
        }
      ]
    },
    {
      "cell_type": "markdown",
      "source": [
        "We can see that $g_{10}(x)$ is overfitting. There are no signs of underfitting in $g_1(x), g_3(x)$. Also, $g_3(x)$ is less underfitting than $g_1(x)$."
      ],
      "metadata": {
        "id": "2mKBH3RRVfac"
      }
    },
    {
      "cell_type": "markdown",
      "source": [
        "**Answer 2.4**"
      ],
      "metadata": {
        "id": "Z8_iLYMcWHxy"
      }
    },
    {
      "cell_type": "code",
      "source": [
        "def f(x):\n",
        "    return x + np.sin(x * 1.5)\n",
        "\n",
        "def epsilon(n):\n",
        "    return np.random.normal(loc=0, scale=0.3, size=n)\n",
        "\n",
        "def y(x):\n",
        "    return f(x) + epsilon(len(x))"
      ],
      "metadata": {
        "id": "IN6mPdcYGyiD"
      },
      "execution_count": 62,
      "outputs": []
    },
    {
      "cell_type": "code",
      "source": [
        "def error_function(pred, actual):\n",
        "  return (pred-actual)**2"
      ],
      "metadata": {
        "id": "D22zyMlRCGV3"
      },
      "execution_count": 63,
      "outputs": []
    },
    {
      "cell_type": "code",
      "source": [
        "from collections import defaultdict\n",
        "\n",
        "from sklearn.model_selection import train_test_split\n",
        "from sklearn.linear_model import LinearRegression\n",
        "from sklearn.preprocessing import PolynomialFeatures\n",
        "\n",
        "n_datasets = 100\n",
        "n_observations_per_dataset = 50\n",
        "percent_train = .8\n",
        "model_poly_degrees = range(1, 16)\n",
        "\n",
        "n_train = int(np.ceil(n_observations_per_dataset * percent_train))\n",
        "\n",
        "\n",
        "theta_hat = defaultdict(list)\n",
        "\n",
        "pred_train = defaultdict(list)\n",
        "pred_test = defaultdict(list)\n",
        "\n",
        "train_errors = defaultdict(list)\n",
        "test_errors = defaultdict(list)\n",
        "\n",
        "for i in range(n_datasets):\n",
        "\n",
        "  # create x_train and x_test\n",
        "  x = np.random.random_sample(n_observations_per_dataset) * 10\n",
        "  x_train = x[:n_train]\n",
        "  x_test = x[n_train:]\n",
        "\n",
        "  # Simulate training/testing targets\n",
        "  y_train = y(x_train)\n",
        "  y_test = y(x_test)\n",
        "\n",
        "\n",
        "  #Looping over model degrees\n",
        "  for deg in model_poly_degrees:\n",
        "\n",
        "    # Training model\n",
        "    tmp_theta_hat = np.polyfit(x_train, y_train, deg)\n",
        "\n",
        "    # Making predictions on train set\n",
        "    tmp_pred_train = np.polyval(tmp_theta_hat, x_train)\n",
        "    pred_train[deg].append(tmp_pred_train)\n",
        "\n",
        "    # Test Predictions\n",
        "    tmp_pred_test = np.polyval(tmp_theta_hat, x_test)\n",
        "    pred_test[deg].append(tmp_pred_test)\n",
        "\n",
        "    # Mean Squared Error for train and test sets\n",
        "    train_errors[deg].append(np.mean(error_function(tmp_pred_train, y_train)))\n",
        "    test_errors[deg].append(np.mean(error_function(tmp_pred_test, y_test)))\n"
      ],
      "metadata": {
        "id": "qte6v1l20Wak"
      },
      "execution_count": 64,
      "outputs": []
    },
    {
      "cell_type": "code",
      "source": [
        "def calculate_estimator_bias_squared(pred_test):\n",
        "    pred_test = np.array(pred_test)\n",
        "    average_model_prediction = pred_test.mean(0)\n",
        "\n",
        "    # (E[g(x)] - f(x))^2, averaged across all trials\n",
        "    return np.mean((average_model_prediction - f(X_test)) ** 2)\n",
        "\n",
        "\n",
        "def calculate_estimator_variance(pred_test):\n",
        "    pred_test = np.array(pred_test)\n",
        "    average_model_prediction = pred_test.mean(0) \n",
        "\n",
        "    # (g(x) - E[g(x)])^2, averaged across all trials\n",
        "    return np.mean((pred_test - average_model_prediction) ** 2)"
      ],
      "metadata": {
        "id": "ICF40bwaHTEF"
      },
      "execution_count": 65,
      "outputs": []
    },
    {
      "cell_type": "code",
      "source": [
        "complexity_train_error = []\n",
        "complexity_test_error = []\n",
        "bias_squared = []\n",
        "variance = []\n",
        "for degree in model_poly_degrees:\n",
        "    complexity_train_error.append(np.mean(train_errors[degree]))\n",
        "    complexity_test_error.append(np.mean(test_errors[degree]))\n",
        "    bias_squared.append(calculate_estimator_bias_squared(pred_test[degree]))\n",
        "    variance.append(calculate_estimator_variance(pred_test[degree]))"
      ],
      "metadata": {
        "id": "DCzx7tolHDzY"
      },
      "execution_count": 66,
      "outputs": []
    },
    {
      "cell_type": "code",
      "source": [
        "best_model_degree = model_poly_degrees[np.argmin(complexity_test_error)]\n",
        "print(f\"the best model is of degree {best_model_degree}\")"
      ],
      "metadata": {
        "colab": {
          "base_uri": "https://localhost:8080/"
        },
        "id": "ZWtSiEvsMyZ2",
        "outputId": "bfb900d9-fb3f-4c12-8015-675d4799e317"
      },
      "execution_count": 67,
      "outputs": [
        {
          "output_type": "stream",
          "name": "stdout",
          "text": [
            "the best model is of degree 8\n"
          ]
        }
      ]
    },
    {
      "cell_type": "code",
      "source": [
        "NOISE_STD = 0.3\n",
        "DATA_COLOR = 'black'\n",
        "ERROR_COLOR = 'red'\n",
        "\n",
        "# Visualizations\n",
        "fig, axs = plt.subplots(1, 2, figsize=(14, 10))\n",
        "\n",
        "plt.sca(axs[0])\n",
        "plt.plot(model_poly_degrees, bias_squared, color='blue', label='$bias^2$')\n",
        "plt.plot(model_poly_degrees, variance, color='green', label='variance')\n",
        "plt.plot(model_poly_degrees, np.array(bias_squared) + np.array(variance),  linestyle='-.', color='gray', label='$bias^2 + variance$')\n",
        "plt.plot(model_poly_degrees, complexity_test_error, label='Testing Set Error', linewidth=3, color=ERROR_COLOR)\n",
        "plt.axvline(best_model_degree, linestyle='--', color='black', label=f'Best Model(degree={best_model_degree})')\n",
        "plt.plot(model_poly_degrees, np.array(complexity_test_error) - (np.array(bias_squared) + np.array(variance)), color='red', label='Testing Error - ($bias^2 + variance$)')\n",
        "plt.axhline(NOISE_STD **2, color='tomato', linestyle='--', label=f'$\\sigma^2$ = {round(NOISE_STD**2, 3)}')\n",
        "\n",
        "plt.xlabel('Model Complexity (Polynomial Degree)')\n",
        "plt.yscale('log')\n",
        "plt.legend()\n",
        "plt.title('Testing Error Relationship to Bias and Variance')\n",
        "\n",
        "## Plot Train / Test Set Error\n",
        "plt.sca(axs[1])\n",
        "plt.plot(model_poly_degrees, complexity_train_error, label='Training Set Error', linewidth=3, color=DATA_COLOR)\n",
        "plt.plot(model_poly_degrees, complexity_test_error, label='Testing Set Error', linewidth=3, color=ERROR_COLOR)\n",
        "plt.axvline(best_model_degree, linestyle='--', color='black', label=f'Best Model(degree={best_model_degree})')\n",
        "plt.xlabel('Model Complexity (Polynomial Degree)')\n",
        "plt.title('Error on Training and Testing Sets')\n",
        "plt.legend(loc='upper center')\n",
        "plt.yscale('log')\n"
      ],
      "metadata": {
        "colab": {
          "base_uri": "https://localhost:8080/",
          "height": 621
        },
        "id": "Zn-HKKYvN5YK",
        "outputId": "a11a1928-d842-428b-b025-d78f94996cbf"
      },
      "execution_count": 68,
      "outputs": [
        {
          "output_type": "display_data",
          "data": {
            "text/plain": [
              "<Figure size 1008x720 with 2 Axes>"
            ],
            "image/png": "[encoded data removed]"
          },
          "metadata": {
            "needs_background": "light"
          }
        }
      ]
    },
    {
      "cell_type": "markdown",
      "source": [
        "**Answer 2.5**\n"
      ],
      "metadata": {
        "id": "rG3BZGDC22dE"
      }
    },
    {
      "cell_type": "markdown",
      "source": [
        "For non-regularized metrics,\n"
      ],
      "metadata": {
        "id": "IEtW3EDBPWHu"
      }
    },
    {
      "cell_type": "code",
      "source": [
        "print(\"Non regularized, degree 10, MSE train: \", complexity_train_error[9])\n",
        "print(\"Non regularized, degree 10, MSE test: \", complexity_test_error[9])\n",
        "print(\"Non regularized, degree 10, Bias Squared: \", bias_squared[9])\n",
        "print(\"Non regularized, degree 10, variance: \", variance[9])"
      ],
      "metadata": {
        "colab": {
          "base_uri": "https://localhost:8080/"
        },
        "id": "sXCMVJUmPm2T",
        "outputId": "1b375d38-813e-4d58-c58f-5441e5ed7401"
      },
      "execution_count": 69,
      "outputs": [
        {
          "output_type": "stream",
          "name": "stdout",
          "text": [
            "Non regularized, degree 10, MSE train:  0.06580246113782197\n",
            "Non regularized, degree 10, MSE test:  0.378183195002633\n",
            "Non regularized, degree 10, Bias Squared:  6.307856345633743\n",
            "Non regularized, degree 10, variance:  8.568358440490218\n"
          ]
        }
      ]
    },
    {
      "cell_type": "code",
      "source": [
        "def L2_reg_error_function(pred, actual, weights, l=100):\n",
        "    squared_error = (pred - actual) ** 2\n",
        "    regularization_error = l * np.sum(weights ** 2)\n",
        "    return squared_error + regularization_error\n"
      ],
      "metadata": {
        "id": "RUyhD6HQPmea"
      },
      "execution_count": 70,
      "outputs": []
    },
    {
      "cell_type": "code",
      "source": [
        "pred_train = []\n",
        "pred_test = []\n",
        "train_errors = []\n",
        "test_errors = []"
      ],
      "metadata": {
        "id": "GeoNVDoyRQ_5"
      },
      "execution_count": 71,
      "outputs": []
    },
    {
      "cell_type": "code",
      "source": [
        "\n",
        "for dataset in range(n_datasets):\n",
        "    \n",
        "    # create x_train and x_test\n",
        "    x = np.random.random_sample(n_observations_per_dataset) * 10\n",
        "    x_train = x[:n_train]\n",
        "    x_test = x[n_train:]\n",
        "\n",
        "    # Simulate training/testing targets\n",
        "    y_train = y(x_train)\n",
        "    y_test = y(x_test)\n",
        "\n",
        "    # Train model\n",
        "    tmp_theta_hat = np.polyfit(x_train, y_train, 10)\n",
        "    \n",
        "    # Make predictions on train set\n",
        "    tmp_pred_train = np.polyval(tmp_theta_hat, x_train)\n",
        "    pred_train.append(tmp_pred_train)\n",
        "    \n",
        "    # Test predictions\n",
        "    tmp_pred_test = np.polyval(tmp_theta_hat, x_test)\n",
        "    pred_test.append(tmp_pred_test)\n",
        "    \n",
        "    # Mean Squared Error + L2 regularization for train and test sets\n",
        "    train_errors.append(np.mean(L2_reg_error_function(tmp_pred_train, y_train, tmp_theta_hat)))\n",
        "    test_errors.append(np.mean(L2_reg_error_function(tmp_pred_test, y_test, tmp_theta_hat)))"
      ],
      "metadata": {
        "id": "ilfBk9g1PmMg"
      },
      "execution_count": 72,
      "outputs": []
    },
    {
      "cell_type": "code",
      "source": [
        "complexity_train_error = np.mean(train_errors)\n",
        "complexity_test_error = np.mean(test_errors)\n",
        "bias_squared = calculate_estimator_bias_squared(pred_test)\n",
        "variance = calculate_estimator_variance(pred_test)"
      ],
      "metadata": {
        "id": "nbVVbTSyRUkL"
      },
      "execution_count": 73,
      "outputs": []
    },
    {
      "cell_type": "code",
      "source": [
        "print(\"Regularized, degree 10, MSE train: \", complexity_train_error)\n",
        "print(\"Regularized, degree 10, MSE test: \", complexity_test_error)\n",
        "print(\"Regularized, degree 10, Bias Squared: \", bias_squared)\n",
        "print(\"Regularized, degree 10, variance: \", variance)"
      ],
      "metadata": {
        "colab": {
          "base_uri": "https://localhost:8080/"
        },
        "id": "i1FZjjYURWjR",
        "outputId": "a5089a1b-2eb0-4d9a-9114-8a842ef5dc2d"
      },
      "execution_count": 74,
      "outputs": [
        {
          "output_type": "stream",
          "name": "stdout",
          "text": [
            "Regularized, degree 10, MSE train:  383550.00665523025\n",
            "Regularized, degree 10, MSE test:  383551.6576898314\n",
            "Regularized, degree 10, Bias Squared:  6.769189013500166\n",
            "Regularized, degree 10, variance:  10.454867361852385\n"
          ]
        }
      ]
    },
    {
      "cell_type": "markdown",
      "source": [
        "After regularization, the delta between training and test MSE is negligible as compared to the unregualrized model. Bias has slightly increased while variance has slightly reduced."
      ],
      "metadata": {
        "id": "dOcr-n2oR8tv"
      }
    },
    {
      "cell_type": "markdown",
      "source": [
        "### **Question 3**\n"
      ],
      "metadata": {
        "id": "9xP-J_t_AIJi"
      }
    },
    {
      "cell_type": "markdown",
      "source": [
        "**Answer 3.1**"
      ],
      "metadata": {
        "id": "21s3mEHFByQA"
      }
    },
    {
      "cell_type": "markdown",
      "source": [
        "Dataset 1 : Phoneme; Dataset 2 : Balance_scale"
      ],
      "metadata": {
        "id": "shJqKgb6ALcf"
      }
    },
    {
      "cell_type": "markdown",
      "source": [
        "Dataset 1 has 5404 instances, 6 features, 2 classes, 5 numerical features and 1 categorical\n",
        "\n",
        "Dataset 2 has 625 instances, 5 features, 3 classes, 4 numerical features and 1 categorical\n",
        "\n"
      ],
      "metadata": {
        "id": "PRSH7BVxAWqt"
      }
    },
    {
      "cell_type": "code",
      "source": [
        "from google.colab import files\n",
        "uploaded = files.upload()"
      ],
      "metadata": {
        "colab": {
          "base_uri": "https://localhost:8080/",
          "height": 109
        },
        "id": "PSPc-P4aA95m",
        "outputId": "21640ff3-cb5d-4150-81de-d5c7373fcf94"
      },
      "execution_count": 75,
      "outputs": [
        {
          "output_type": "display_data",
          "data": {
            "text/plain": [
              "<IPython.core.display.HTML object>"
            ],
            "text/html": [
              "\n",
              "     <input type=\"file\" id=\"files-48ca6abd-7663-44dc-b858-84f3c5ae7060\" name=\"files[]\" multiple disabled\n",
              "        style=\"border:none\" />\n",
              "     <output id=\"result-48ca6abd-7663-44dc-b858-84f3c5ae7060\">\n",
              "      Upload widget is only available when the cell has been executed in the\n",
              "      current browser session. Please rerun this cell to enable.\n",
              "      </output>\n",
              "      <script>// Copyright 2017 Google LLC\n",
              "//\n",
              "// Licensed under the Apache License, Version 2.0 (the \"License\");\n",
              "// you may not use this file except in compliance with the License.\n",
              "// You may obtain a copy of the License at\n",
              "//\n",
              "//      http://www.apache.org/licenses/LICENSE-2.0\n",
              "//\n",
              "// Unless required by applicable law or agreed to in writing, software\n",
              "// distributed under the License is distributed on an \"AS IS\" BASIS,\n",
              "// WITHOUT WARRANTIES OR CONDITIONS OF ANY KIND, either express or implied.\n",
              "// See the License for the specific language governing permissions and\n",
              "// limitations under the License.\n",
              "\n",
              "/**\n",
              " * @fileoverview Helpers for google.colab Python module.\n",
              " */\n",
              "(function(scope) {\n",
              "function span(text, styleAttributes = {}) {\n",
              "  const element = document.createElement('span');\n",
              "  element.textContent = text;\n",
              "  for (const key of Object.keys(styleAttributes)) {\n",
              "    element.style[key] = styleAttributes[key];\n",
              "  }\n",
              "  return element;\n",
              "}\n",
              "\n",
              "// Max number of bytes which will be uploaded at a time.\n",
              "const MAX_PAYLOAD_SIZE = 100 * 1024;\n",
              "\n",
              "function _uploadFiles(inputId, outputId) {\n",
              "  const steps = uploadFilesStep(inputId, outputId);\n",
              "  const outputElement = document.getElementById(outputId);\n",
              "  // Cache steps on the outputElement to make it available for the next call\n",
              "  // to uploadFilesContinue from Python.\n",
              "  outputElement.steps = steps;\n",
              "\n",
              "  return _uploadFilesContinue(outputId);\n",
              "}\n",
              "\n",
              "// This is roughly an async generator (not supported in the browser yet),\n",
              "// where there are multiple asynchronous steps and the Python side is going\n",
              "// to poll for completion of each step.\n",
              "// This uses a Promise to block the python side on completion of each step,\n",
              "// then passes the result of the previous step as the input to the next step.\n",
              "function _uploadFilesContinue(outputId) {\n",
              "  const outputElement = document.getElementById(outputId);\n",
              "  const steps = outputElement.steps;\n",
              "\n",
              "  const next = steps.next(outputElement.lastPromiseValue);\n",
              "  return Promise.resolve(next.value.promise).then((value) => {\n",
              "    // Cache the last promise value to make it available to the next\n",
              "    // step of the generator.\n",
              "    outputElement.lastPromiseValue = value;\n",
              "    return next.value.response;\n",
              "  });\n",
              "}\n",
              "\n",
              "/**\n",
              " * Generator function which is called between each async step of the upload\n",
              " * process.\n",
              " * @param {string} inputId Element ID of the input file picker element.\n",
              " * @param {string} outputId Element ID of the output display.\n",
              " * @return {!Iterable<!Object>} Iterable of next steps.\n",
              " */\n",
              "function* uploadFilesStep(inputId, outputId) {\n",
              "  const inputElement = document.getElementById(inputId);\n",
              "  inputElement.disabled = false;\n",
              "\n",
              "  const outputElement = document.getElementById(outputId);\n",
              "  outputElement.innerHTML = '';\n",
              "\n",
              "  const pickedPromise = new Promise((resolve) => {\n",
              "    inputElement.addEventListener('change', (e) => {\n",
              "      resolve(e.target.files);\n",
              "    });\n",
              "  });\n",
              "\n",
              "  const cancel = document.createElement('button');\n",
              "  inputElement.parentElement.appendChild(cancel);\n",
              "  cancel.textContent = 'Cancel upload';\n",
              "  const cancelPromise = new Promise((resolve) => {\n",
              "    cancel.onclick = () => {\n",
              "      resolve(null);\n",
              "    };\n",
              "  });\n",
              "\n",
              "  // Wait for the user to pick the files.\n",
              "  const files = yield {\n",
              "    promise: Promise.race([pickedPromise, cancelPromise]),\n",
              "    response: {\n",
              "      action: 'starting',\n",
              "    }\n",
              "  };\n",
              "\n",
              "  cancel.remove();\n",
              "\n",
              "  // Disable the input element since further picks are not allowed.\n",
              "  inputElement.disabled = true;\n",
              "\n",
              "  if (!files) {\n",
              "    return {\n",
              "      response: {\n",
              "        action: 'complete',\n",
              "      }\n",
              "    };\n",
              "  }\n",
              "\n",
              "  for (const file of files) {\n",
              "    const li = document.createElement('li');\n",
              "    li.append(span(file.name, {fontWeight: 'bold'}));\n",
              "    li.append(span(\n",
              "        `(${file.type || 'n/a'}) - ${file.size} bytes, ` +\n",
              "        `last modified: ${\n",
              "            file.lastModifiedDate ? file.lastModifiedDate.toLocaleDateString() :\n",
              "                                    'n/a'} - `));\n",
              "    const percent = span('0% done');\n",
              "    li.appendChild(percent);\n",
              "\n",
              "    outputElement.appendChild(li);\n",
              "\n",
              "    const fileDataPromise = new Promise((resolve) => {\n",
              "      const reader = new FileReader();\n",
              "      reader.onload = (e) => {\n",
              "        resolve(e.target.result);\n",
              "      };\n",
              "      reader.readAsArrayBuffer(file);\n",
              "    });\n",
              "    // Wait for the data to be ready.\n",
              "    let fileData = yield {\n",
              "      promise: fileDataPromise,\n",
              "      response: {\n",
              "        action: 'continue',\n",
              "      }\n",
              "    };\n",
              "\n",
              "    // Use a chunked sending to avoid message size limits. See b/62115660.\n",
              "    let position = 0;\n",
              "    do {\n",
              "      const length = Math.min(fileData.byteLength - position, MAX_PAYLOAD_SIZE);\n",
              "      const chunk = new Uint8Array(fileData, position, length);\n",
              "      position += length;\n",
              "\n",
              "      const base64 = btoa(String.fromCharCode.apply(null, chunk));\n",
              "      yield {\n",
              "        response: {\n",
              "          action: 'append',\n",
              "          file: file.name,\n",
              "          data: base64,\n",
              "        },\n",
              "      };\n",
              "\n",
              "      let percentDone = fileData.byteLength === 0 ?\n",
              "          100 :\n",
              "          Math.round((position / fileData.byteLength) * 100);\n",
              "      percent.textContent = `${percentDone}% done`;\n",
              "\n",
              "    } while (position < fileData.byteLength);\n",
              "  }\n",
              "\n",
              "  // All done.\n",
              "  yield {\n",
              "    response: {\n",
              "      action: 'complete',\n",
              "    }\n",
              "  };\n",
              "}\n",
              "\n",
              "scope.google = scope.google || {};\n",
              "scope.google.colab = scope.google.colab || {};\n",
              "scope.google.colab._files = {\n",
              "  _uploadFiles,\n",
              "  _uploadFilesContinue,\n",
              "};\n",
              "})(self);\n",
              "</script> "
            ]
          },
          "metadata": {}
        },
        {
          "output_type": "stream",
          "name": "stdout",
          "text": [
            "Saving balance_scale.csv to balance_scale.csv\n",
            "Saving phoneme.csv to phoneme.csv\n"
          ]
        }
      ]
    },
    {
      "cell_type": "code",
      "source": [
        "dataset1 = pd.read_csv('phoneme.csv')\n",
        "dataset2 = pd.read_csv('balance_scale.csv')"
      ],
      "metadata": {
        "id": "tJZfQFe-BCNv"
      },
      "execution_count": 78,
      "outputs": []
    },
    {
      "cell_type": "code",
      "source": [
        "dataset1.head()\n"
      ],
      "metadata": {
        "colab": {
          "base_uri": "https://localhost:8080/",
          "height": 206
        },
        "id": "3Pngk1KcCaBa",
        "outputId": "3abee5fa-7163-48ac-a58a-f89c111c3116"
      },
      "execution_count": 79,
      "outputs": [
        {
          "output_type": "execute_result",
          "data": {
            "text/plain": [
              "   id        V1        V2        V3        V4        V5  Class\n",
              "0   1  0.489927 -0.451528 -1.047990 -0.598693 -0.020418      1\n",
              "1   2 -0.641265  0.109245  0.292130 -0.916804  0.240223      1\n",
              "2   3  0.870593 -0.459862  0.578159  0.806634  0.835248      1\n",
              "3   4 -0.628439 -0.316284  1.934295 -1.427099 -0.136583      1\n",
              "4   5 -0.596399  0.015938  2.043206 -1.688448 -0.948127      1"
            ],
            "text/html": [
              "\n",
              "  <div id=\"df-13c3b9e3-d0b9-43e2-aaa3-d6329199bdf0\">\n",
              "    <div class=\"colab-df-container\">\n",
              "      <div>\n",
              "<style scoped>\n",
              "    .dataframe tbody tr th:only-of-type {\n",
              "        vertical-align: middle;\n",
              "    }\n",
              "\n",
              "    .dataframe tbody tr th {\n",
              "        vertical-align: top;\n",
              "    }\n",
              "\n",
              "    .dataframe thead th {\n",
              "        text-align: right;\n",
              "    }\n",
              "</style>\n",
              "<table border=\"1\" class=\"dataframe\">\n",
              "  <thead>\n",
              "    <tr style=\"text-align: right;\">\n",
              "      <th></th>\n",
              "      <th>id</th>\n",
              "      <th>V1</th>\n",
              "      <th>V2</th>\n",
              "      <th>V3</th>\n",
              "      <th>V4</th>\n",
              "      <th>V5</th>\n",
              "      <th>Class</th>\n",
              "    </tr>\n",
              "  </thead>\n",
              "  <tbody>\n",
              "    <tr>\n",
              "      <th>0</th>\n",
              "      <td>1</td>\n",
              "      <td>0.489927</td>\n",
              "      <td>-0.451528</td>\n",
              "      <td>-1.047990</td>\n",
              "      <td>-0.598693</td>\n",
              "      <td>-0.020418</td>\n",
              "      <td>1</td>\n",
              "    </tr>\n",
              "    <tr>\n",
              "      <th>1</th>\n",
              "      <td>2</td>\n",
              "      <td>-0.641265</td>\n",
              "      <td>0.109245</td>\n",
              "      <td>0.292130</td>\n",
              "      <td>-0.916804</td>\n",
              "      <td>0.240223</td>\n",
              "      <td>1</td>\n",
              "    </tr>\n",
              "    <tr>\n",
              "      <th>2</th>\n",
              "      <td>3</td>\n",
              "      <td>0.870593</td>\n",
              "      <td>-0.459862</td>\n",
              "      <td>0.578159</td>\n",
              "      <td>0.806634</td>\n",
              "      <td>0.835248</td>\n",
              "      <td>1</td>\n",
              "    </tr>\n",
              "    <tr>\n",
              "      <th>3</th>\n",
              "      <td>4</td>\n",
              "      <td>-0.628439</td>\n",
              "      <td>-0.316284</td>\n",
              "      <td>1.934295</td>\n",
              "      <td>-1.427099</td>\n",
              "      <td>-0.136583</td>\n",
              "      <td>1</td>\n",
              "    </tr>\n",
              "    <tr>\n",
              "      <th>4</th>\n",
              "      <td>5</td>\n",
              "      <td>-0.596399</td>\n",
              "      <td>0.015938</td>\n",
              "      <td>2.043206</td>\n",
              "      <td>-1.688448</td>\n",
              "      <td>-0.948127</td>\n",
              "      <td>1</td>\n",
              "    </tr>\n",
              "  </tbody>\n",
              "</table>\n",
              "</div>\n",
              "      <button class=\"colab-df-convert\" onclick=\"convertToInteractive('df-13c3b9e3-d0b9-43e2-aaa3-d6329199bdf0')\"\n",
              "              title=\"Convert this dataframe to an interactive table.\"\n",
              "              style=\"display:none;\">\n",
              "        \n",
              "  <svg xmlns=\"http://www.w3.org/2000/svg\" height=\"24px\"viewBox=\"0 0 24 24\"\n",
              "       width=\"24px\">\n",
              "    <path d=\"M0 0h24v24H0V0z\" fill=\"none\"/>\n",
              "    <path d=\"M18.56 5.44l.94 2.06.94-2.06 2.06-.94-2.06-.94-.94-2.06-.94 2.06-2.06.94zm-11 1L8.5 8.5l.94-2.06 2.06-.94-2.06-.94L8.5 2.5l-.94 2.06-2.06.94zm10 10l.94 2.06.94-2.06 2.06-.94-2.06-.94-.94-2.06-.94 2.06-2.06.94z\"/><path d=\"M17.41 7.96l-1.37-1.37c-.4-.4-.92-.59-1.43-.59-.52 0-1.04.2-1.43.59L10.3 9.45l-7.72 7.72c-.78.78-.78 2.05 0 2.83L4 21.41c.39.39.9.59 1.41.59.51 0 1.02-.2 1.41-.59l7.78-7.78 2.81-2.81c.8-.78.8-2.07 0-2.86zM5.41 20L4 18.59l7.72-7.72 1.47 1.35L5.41 20z\"/>\n",
              "  </svg>\n",
              "      </button>\n",
              "      \n",
              "  <style>\n",
              "    .colab-df-container {\n",
              "      display:flex;\n",
              "      flex-wrap:wrap;\n",
              "      gap: 12px;\n",
              "    }\n",
              "\n",
              "    .colab-df-convert {\n",
              "      background-color: #E8F0FE;\n",
              "      border: none;\n",
              "      border-radius: 50%;\n",
              "      cursor: pointer;\n",
              "      display: none;\n",
              "      fill: #1967D2;\n",
              "      height: 32px;\n",
              "      padding: 0 0 0 0;\n",
              "      width: 32px;\n",
              "    }\n",
              "\n",
              "    .colab-df-convert:hover {\n",
              "      background-color: #E2EBFA;\n",
              "      box-shadow: 0px 1px 2px rgba(60, 64, 67, 0.3), 0px 1px 3px 1px rgba(60, 64, 67, 0.15);\n",
              "      fill: #174EA6;\n",
              "    }\n",
              "\n",
              "    [theme=dark] .colab-df-convert {\n",
              "      background-color: #3B4455;\n",
              "      fill: #D2E3FC;\n",
              "    }\n",
              "\n",
              "    [theme=dark] .colab-df-convert:hover {\n",
              "      background-color: #434B5C;\n",
              "      box-shadow: 0px 1px 3px 1px rgba(0, 0, 0, 0.15);\n",
              "      filter: drop-shadow(0px 1px 2px rgba(0, 0, 0, 0.3));\n",
              "      fill: #FFFFFF;\n",
              "    }\n",
              "  </style>\n",
              "\n",
              "      <script>\n",
              "        const buttonEl =\n",
              "          document.querySelector('#df-13c3b9e3-d0b9-43e2-aaa3-d6329199bdf0 button.colab-df-convert');\n",
              "        buttonEl.style.display =\n",
              "          google.colab.kernel.accessAllowed ? 'block' : 'none';\n",
              "\n",
              "        async function convertToInteractive(key) {\n",
              "          const element = document.querySelector('#df-13c3b9e3-d0b9-43e2-aaa3-d6329199bdf0');\n",
              "          const dataTable =\n",
              "            await google.colab.kernel.invokeFunction('convertToInteractive',\n",
              "                                                     [key], {});\n",
              "          if (!dataTable) return;\n",
              "\n",
              "          const docLinkHtml = 'Like what you see? Visit the ' +\n",
              "            '<a target=\"_blank\" href=https://colab.research.google.com/notebooks/data_table.ipynb>data table notebook</a>'\n",
              "            + ' to learn more about interactive tables.';\n",
              "          element.innerHTML = '';\n",
              "          dataTable['output_type'] = 'display_data';\n",
              "          await google.colab.output.renderOutput(dataTable, element);\n",
              "          const docLink = document.createElement('div');\n",
              "          docLink.innerHTML = docLinkHtml;\n",
              "          element.appendChild(docLink);\n",
              "        }\n",
              "      </script>\n",
              "    </div>\n",
              "  </div>\n",
              "  "
            ]
          },
          "metadata": {},
          "execution_count": 79
        }
      ]
    },
    {
      "cell_type": "code",
      "source": [
        "\n",
        "dataset2.head()"
      ],
      "metadata": {
        "colab": {
          "base_uri": "https://localhost:8080/",
          "height": 206
        },
        "id": "Bhk4NhifCctj",
        "outputId": "eb5d92d7-d144-4720-a079-55f802ae6f81"
      },
      "execution_count": 80,
      "outputs": [
        {
          "output_type": "execute_result",
          "data": {
            "text/plain": [
              "   id  'left-weight'  'left-distance'  'right-weight'  'right-distance'  \\\n",
              "0   1              1                1               1                 1   \n",
              "1   2              1                1               1                 2   \n",
              "2   3              1                1               1                 3   \n",
              "3   4              1                1               1                 4   \n",
              "4   5              1                1               1                 5   \n",
              "\n",
              "  'class'  \n",
              "0       B  \n",
              "1       R  \n",
              "2       R  \n",
              "3       R  \n",
              "4       R  "
            ],
            "text/html": [
              "\n",
              "  <div id=\"df-daf9b0f6-aacc-4718-b2b2-ced360a9172f\">\n",
              "    <div class=\"colab-df-container\">\n",
              "      <div>\n",
              "<style scoped>\n",
              "    .dataframe tbody tr th:only-of-type {\n",
              "        vertical-align: middle;\n",
              "    }\n",
              "\n",
              "    .dataframe tbody tr th {\n",
              "        vertical-align: top;\n",
              "    }\n",
              "\n",
              "    .dataframe thead th {\n",
              "        text-align: right;\n",
              "    }\n",
              "</style>\n",
              "<table border=\"1\" class=\"dataframe\">\n",
              "  <thead>\n",
              "    <tr style=\"text-align: right;\">\n",
              "      <th></th>\n",
              "      <th>id</th>\n",
              "      <th>'left-weight'</th>\n",
              "      <th>'left-distance'</th>\n",
              "      <th>'right-weight'</th>\n",
              "      <th>'right-distance'</th>\n",
              "      <th>'class'</th>\n",
              "    </tr>\n",
              "  </thead>\n",
              "  <tbody>\n",
              "    <tr>\n",
              "      <th>0</th>\n",
              "      <td>1</td>\n",
              "      <td>1</td>\n",
              "      <td>1</td>\n",
              "      <td>1</td>\n",
              "      <td>1</td>\n",
              "      <td>B</td>\n",
              "    </tr>\n",
              "    <tr>\n",
              "      <th>1</th>\n",
              "      <td>2</td>\n",
              "      <td>1</td>\n",
              "      <td>1</td>\n",
              "      <td>1</td>\n",
              "      <td>2</td>\n",
              "      <td>R</td>\n",
              "    </tr>\n",
              "    <tr>\n",
              "      <th>2</th>\n",
              "      <td>3</td>\n",
              "      <td>1</td>\n",
              "      <td>1</td>\n",
              "      <td>1</td>\n",
              "      <td>3</td>\n",
              "      <td>R</td>\n",
              "    </tr>\n",
              "    <tr>\n",
              "      <th>3</th>\n",
              "      <td>4</td>\n",
              "      <td>1</td>\n",
              "      <td>1</td>\n",
              "      <td>1</td>\n",
              "      <td>4</td>\n",
              "      <td>R</td>\n",
              "    </tr>\n",
              "    <tr>\n",
              "      <th>4</th>\n",
              "      <td>5</td>\n",
              "      <td>1</td>\n",
              "      <td>1</td>\n",
              "      <td>1</td>\n",
              "      <td>5</td>\n",
              "      <td>R</td>\n",
              "    </tr>\n",
              "  </tbody>\n",
              "</table>\n",
              "</div>\n",
              "      <button class=\"colab-df-convert\" onclick=\"convertToInteractive('df-daf9b0f6-aacc-4718-b2b2-ced360a9172f')\"\n",
              "              title=\"Convert this dataframe to an interactive table.\"\n",
              "              style=\"display:none;\">\n",
              "        \n",
              "  <svg xmlns=\"http://www.w3.org/2000/svg\" height=\"24px\"viewBox=\"0 0 24 24\"\n",
              "       width=\"24px\">\n",
              "    <path d=\"M0 0h24v24H0V0z\" fill=\"none\"/>\n",
              "    <path d=\"M18.56 5.44l.94 2.06.94-2.06 2.06-.94-2.06-.94-.94-2.06-.94 2.06-2.06.94zm-11 1L8.5 8.5l.94-2.06 2.06-.94-2.06-.94L8.5 2.5l-.94 2.06-2.06.94zm10 10l.94 2.06.94-2.06 2.06-.94-2.06-.94-.94-2.06-.94 2.06-2.06.94z\"/><path d=\"M17.41 7.96l-1.37-1.37c-.4-.4-.92-.59-1.43-.59-.52 0-1.04.2-1.43.59L10.3 9.45l-7.72 7.72c-.78.78-.78 2.05 0 2.83L4 21.41c.39.39.9.59 1.41.59.51 0 1.02-.2 1.41-.59l7.78-7.78 2.81-2.81c.8-.78.8-2.07 0-2.86zM5.41 20L4 18.59l7.72-7.72 1.47 1.35L5.41 20z\"/>\n",
              "  </svg>\n",
              "      </button>\n",
              "      \n",
              "  <style>\n",
              "    .colab-df-container {\n",
              "      display:flex;\n",
              "      flex-wrap:wrap;\n",
              "      gap: 12px;\n",
              "    }\n",
              "\n",
              "    .colab-df-convert {\n",
              "      background-color: #E8F0FE;\n",
              "      border: none;\n",
              "      border-radius: 50%;\n",
              "      cursor: pointer;\n",
              "      display: none;\n",
              "      fill: #1967D2;\n",
              "      height: 32px;\n",
              "      padding: 0 0 0 0;\n",
              "      width: 32px;\n",
              "    }\n",
              "\n",
              "    .colab-df-convert:hover {\n",
              "      background-color: #E2EBFA;\n",
              "      box-shadow: 0px 1px 2px rgba(60, 64, 67, 0.3), 0px 1px 3px 1px rgba(60, 64, 67, 0.15);\n",
              "      fill: #174EA6;\n",
              "    }\n",
              "\n",
              "    [theme=dark] .colab-df-convert {\n",
              "      background-color: #3B4455;\n",
              "      fill: #D2E3FC;\n",
              "    }\n",
              "\n",
              "    [theme=dark] .colab-df-convert:hover {\n",
              "      background-color: #434B5C;\n",
              "      box-shadow: 0px 1px 3px 1px rgba(0, 0, 0, 0.15);\n",
              "      filter: drop-shadow(0px 1px 2px rgba(0, 0, 0, 0.3));\n",
              "      fill: #FFFFFF;\n",
              "    }\n",
              "  </style>\n",
              "\n",
              "      <script>\n",
              "        const buttonEl =\n",
              "          document.querySelector('#df-daf9b0f6-aacc-4718-b2b2-ced360a9172f button.colab-df-convert');\n",
              "        buttonEl.style.display =\n",
              "          google.colab.kernel.accessAllowed ? 'block' : 'none';\n",
              "\n",
              "        async function convertToInteractive(key) {\n",
              "          const element = document.querySelector('#df-daf9b0f6-aacc-4718-b2b2-ced360a9172f');\n",
              "          const dataTable =\n",
              "            await google.colab.kernel.invokeFunction('convertToInteractive',\n",
              "                                                     [key], {});\n",
              "          if (!dataTable) return;\n",
              "\n",
              "          const docLinkHtml = 'Like what you see? Visit the ' +\n",
              "            '<a target=\"_blank\" href=https://colab.research.google.com/notebooks/data_table.ipynb>data table notebook</a>'\n",
              "            + ' to learn more about interactive tables.';\n",
              "          element.innerHTML = '';\n",
              "          dataTable['output_type'] = 'display_data';\n",
              "          await google.colab.output.renderOutput(dataTable, element);\n",
              "          const docLink = document.createElement('div');\n",
              "          docLink.innerHTML = docLinkHtml;\n",
              "          element.appendChild(docLink);\n",
              "        }\n",
              "      </script>\n",
              "    </div>\n",
              "  </div>\n",
              "  "
            ]
          },
          "metadata": {},
          "execution_count": 80
        }
      ]
    },
    {
      "cell_type": "markdown",
      "source": [
        "**Answer 3.2**"
      ],
      "metadata": {
        "id": "xRGfhMhvBfpK"
      }
    },
    {
      "cell_type": "markdown",
      "source": [
        "Dataset 1\n"
      ],
      "metadata": {
        "id": "wyrzhVR-B34o"
      }
    },
    {
      "cell_type": "code",
      "source": [
        "y_1 = np.array(dataset1['Class'])\n",
        "dataset1.drop(columns=['Class'], inplace=True)\n",
        "\n",
        "X_train, X_test, y_train, y_test = train_test_split(dataset1, y_1, test_size=0.20)"
      ],
      "metadata": {
        "id": "jHLQhL_CCP7p"
      },
      "execution_count": 81,
      "outputs": []
    },
    {
      "cell_type": "code",
      "source": [
        "#Random Forest Classifier\n",
        "from sklearn.ensemble import RandomForestClassifier\n",
        "from sklearn.metrics import classification_report, confusion_matrix, accuracy_score\n",
        "import time\n",
        "\n",
        "size = np.arange(0.1,1,0.1)\n",
        "\n",
        "clf = RandomForestClassifier()\n",
        "rf_training_time_dataset1 = []\n",
        "rf_accuracy_dataset1 = []\n",
        "\n",
        "#Using subsamples of training set for training the classifier\n",
        "for i in size:\n",
        "  #Creating subsamples of training set\n",
        "  X_train_rf_dataset1, X_test_rf_dataset1, y_train_rf_dataset1, y_test_rf_dataset1 = train_test_split(X_train, y_train, train_size=i)\n",
        "  \n",
        "  #Training models based on subsamples\n",
        "  start=time.time()\n",
        "  clf.fit(X_train_rf_dataset1, y_train_rf_dataset1)\n",
        "  stop=time.time()\n",
        "  rf_training_time_dataset1.append((stop-start)*1000)\n",
        "\n",
        "  #Predicting output\n",
        "  y_predicted = clf.predict(X_test)\n",
        "  rf_accuracy_dataset1.append(accuracy_score(y_test, y_predicted))  \n",
        "\n",
        "  \n",
        "#Using 100% of training set for training the classifier, \n",
        "start=time.time()\n",
        "clf.fit(X_train, y_train)\n",
        "stop=time.time()\n",
        "rf_training_time_dataset1.append((stop-start)*1000)\n",
        "\n",
        "#Predicting output\n",
        "y_predicted = clf.predict(X_test)\n",
        "rf_accuracy_dataset1.append(accuracy_score(y_test, y_predicted))"
      ],
      "metadata": {
        "id": "pxtmPjR4D_1q"
      },
      "execution_count": 82,
      "outputs": []
    },
    {
      "cell_type": "code",
      "source": [
        "#Gradient Descent\n",
        "from sklearn.ensemble import GradientBoostingClassifier\n",
        "\n",
        "gboostclf = GradientBoostingClassifier(random_state=1)\n",
        "gb_training_time_dataset1 = []\n",
        "gb_accuracy_dataset1 = []\n",
        "\n",
        "#Using subsamples of training set for training the classifier\n",
        "for i in size:\n",
        "  #Creating subsamples of training set\n",
        "  X_train_gb_dataset1, X_test_gb_dataset1, y_train_gb_dataset1, y_test_gb_dataset1 = train_test_split(X_train, y_train, train_size=i)\n",
        "  \n",
        "  #Training models based on subsamples\n",
        "  start=time.time()\n",
        "  gboostclf.fit(X_train_gb_dataset1, y_train_gb_dataset1)\n",
        "  stop=time.time()\n",
        "  gb_training_time_dataset1.append((stop-start)*1000)\n",
        "\n",
        "  #Predicting output\n",
        "  y_predicted = gboostclf.predict(X_test)\n",
        "  gb_accuracy_dataset1.append(accuracy_score(y_test, y_predicted))\n",
        "\n",
        "\n",
        "#Using 100% of training set for training the classifier, \n",
        "start=time.time()\n",
        "gboostclf.fit(X_train, y_train)\n",
        "stop=time.time()\n",
        "gb_training_time_dataset1.append((stop-start)*1000)\n",
        "\n",
        "#Predicting output\n",
        "y_predicted = gboostclf.predict(X_test)\n",
        "gb_accuracy_dataset1.append(accuracy_score(y_test, y_predicted))"
      ],
      "metadata": {
        "id": "LuF1acdFECLR"
      },
      "execution_count": 83,
      "outputs": []
    },
    {
      "cell_type": "markdown",
      "source": [
        "Dataset 2"
      ],
      "metadata": {
        "id": "sre1p8sECQWN"
      }
    },
    {
      "cell_type": "code",
      "source": [
        "y_2 = np.array(dataset2['\\'class\\''])\n",
        "dataset2.drop(columns=['\\'class\\''], inplace=True)\n",
        "\n",
        "X_train, X_test, y_train, y_test = train_test_split(dataset2, y_2, test_size=0.20)"
      ],
      "metadata": {
        "id": "LJ0PuZO5CVES"
      },
      "execution_count": 84,
      "outputs": []
    },
    {
      "cell_type": "code",
      "source": [
        "#Random Forest Classifier\n",
        "from sklearn.ensemble import RandomForestClassifier\n",
        "from sklearn.metrics import classification_report, confusion_matrix, accuracy_score\n",
        "import time\n",
        "\n",
        "size = np.arange(0.1,1,0.1)\n",
        "\n",
        "clf = RandomForestClassifier()\n",
        "rf_training_time_dataset2 = []\n",
        "rf_accuracy_dataset2 = []\n",
        "\n",
        "#Using subsamples of training set for training the classifier\n",
        "for i in size:\n",
        "  #Creating subsamples of training set\n",
        "  X_train_rf_dataset2, X_test_rf_dataset2, y_train_rf_dataset2, y_test_rf_dataset2 = train_test_split(X_train, y_train, train_size=i)\n",
        "  \n",
        "  #Training models based on subsamples\n",
        "  start=time.time()\n",
        "  clf.fit(X_train_rf_dataset2, y_train_rf_dataset2)\n",
        "  stop=time.time()\n",
        "  rf_training_time_dataset2.append((stop-start)*1000)\n",
        "\n",
        "  #Predicting output\n",
        "  y_predicted = clf.predict(X_test)\n",
        "  rf_accuracy_dataset2.append(accuracy_score(y_test, y_predicted))  \n",
        "\n",
        "#Using 100% of training set for training the classifier, \n",
        "start=time.time()\n",
        "clf.fit(X_train, y_train)\n",
        "stop=time.time()\n",
        "rf_training_time_dataset2.append((stop-start)*1000)\n",
        "\n",
        "#Predicting output\n",
        "y_predicted = clf.predict(X_test)\n",
        "rf_accuracy_dataset2.append(accuracy_score(y_test, y_predicted))"
      ],
      "metadata": {
        "id": "K8FSw6E6CQoa"
      },
      "execution_count": 87,
      "outputs": []
    },
    {
      "cell_type": "code",
      "source": [
        "#Gradient Descent\n",
        "from sklearn.ensemble import GradientBoostingClassifier\n",
        "\n",
        "gboostclf = GradientBoostingClassifier(random_state=1)\n",
        "gb_training_time_dataset2 = []\n",
        "gb_accuracy_dataset2 = []\n",
        "\n",
        "#Using subsamples of training set for training the classifier\n",
        "for i in size:\n",
        "  #Creating subsamples of training set\n",
        "  X_train_gb_dataset2, X_test_gb_dataset2, y_train_gb_dataset2, y_test_gb_dataset2 = train_test_split(X_train, y_train, train_size=i)\n",
        "  \n",
        "  #Training models based on subsamples\n",
        "  start=time.time()\n",
        "  gboostclf.fit(X_train_gb_dataset2, y_train_gb_dataset2)\n",
        "  stop=time.time()\n",
        "  gb_training_time_dataset2.append((stop-start)*1000)\n",
        "\n",
        "  #Predicting output\n",
        "  y_predicted = gboostclf.predict(X_test)\n",
        "  gb_accuracy_dataset2.append(accuracy_score(y_test, y_predicted))\n",
        "\n",
        "\n",
        "\n",
        "#Using 100% of training set for training the classifier, \n",
        "start=time.time()\n",
        "gboostclf.fit(X_train, y_train)\n",
        "stop=time.time()\n",
        "gb_training_time_dataset2.append((stop-start)*1000)\n",
        "\n",
        "#Predicting output\n",
        "y_predicted = gboostclf.predict(X_test)\n",
        "gb_accuracy_dataset2.append(accuracy_score(y_test, y_predicted))\n"
      ],
      "metadata": {
        "id": "IJlL_RmNEKAD"
      },
      "execution_count": 88,
      "outputs": []
    },
    {
      "cell_type": "markdown",
      "source": [
        "## **Plotting**"
      ],
      "metadata": {
        "id": "Imt0Wpmy5u-l"
      }
    },
    {
      "cell_type": "code",
      "source": [
        "fig, ax = plt.subplots(2, 1, figsize=(10,8))\n",
        "fig.tight_layout(h_pad=5)\n",
        "\n",
        "x_size = np.arange(0.0,1,0.1)\n",
        "\n",
        "#Plotting test size vs training time for random forest and gradient boosting on two datasets.\n",
        "plt.subplot(2,1,1)\n",
        "plt.title('Training set used vs Training time')\n",
        "\n",
        "plt.plot(x_size,rf_training_time_dataset1,label='RF Dataset1')\n",
        "plt.plot(x_size,gb_training_time_dataset1,label='GB Dataset1')\n",
        "plt.plot(x_size,rf_training_time_dataset2,label='RF Dataset2')\n",
        "plt.plot(x_size,gb_training_time_dataset2,label='GB Dataset2')\n",
        "\n",
        "plt.xlabel('Training set used')\n",
        "plt.ylabel('Training time (in ms)')\n",
        "\n",
        "plt.legend()\n",
        "plt.grid()\n",
        "\n",
        "#Plotting test size vs accuracy for random forest and gradient boosting on two datasets.\n",
        "plt.subplot(2,1,2)\n",
        "plt.title('Training set used vs Accuracy')\n",
        "\n",
        "plt.plot(x_size,rf_accuracy_dataset1,label='RF Dataset1')\n",
        "plt.plot(x_size,gb_accuracy_dataset1,label='GB Dataset1')\n",
        "plt.plot(x_size,rf_accuracy_dataset2,label='RF Dataset2')\n",
        "plt.plot(x_size,gb_accuracy_dataset2,label='GB Dataset2')\n",
        "\n",
        "plt.xlabel('Training set used')\n",
        "plt.ylabel('Accuracy')\n",
        "\n",
        "plt.legend()\n",
        "plt.grid()"
      ],
      "metadata": {
        "colab": {
          "base_uri": "https://localhost:8080/",
          "height": 611
        },
        "id": "qgUv_Fa3-QVQ",
        "outputId": "b952fdac-6766-4669-ff9f-92a6ad8b14bb"
      },
      "execution_count": 89,
      "outputs": [
        {
          "output_type": "display_data",
          "data": {
            "text/plain": [
              "<Figure size 720x576 with 2 Axes>"
            ],
            "image/png": "[encoded data removed]"
          },
          "metadata": {
            "needs_background": "light"
          }
        }
      ]
    },
    {
      "cell_type": "markdown",
      "source": [
        "**Answer 3.3**\n",
        "\n"
      ],
      "metadata": {
        "id": "O8Ra9pTCAkUa"
      }
    },
    {
      "cell_type": "markdown",
      "source": [
        "Accuracy: Random forest has greater accuracy for both the data sets.\n",
        "\n",
        "Training time: Gradient Boosting takes more training time for both datasets.\n",
        "\n",
        "Observations: \n",
        "\n",
        "1) With the increase in training size, time taken for training is more. It's almost a linear relationship. \n",
        "\n",
        "2) Accuracy improves much better by increasing training set size for random forests consistently.\n",
        "\n",
        "3) Accuracy hardly improves after $(x=0.6)$ while using Gradient boosting for both datasets.\n",
        "\n",
        "4) The rate of increase of training time with respect to increase in training set size is more for Gradient Boosting as compared to Random Forest algorithms.\n"
      ],
      "metadata": {
        "id": "HULZUGNWNm5h"
      }
    },
    {
      "cell_type": "markdown",
      "source": [
        "###**Problem 4**"
      ],
      "metadata": {
        "id": "Ct3-lp5RPM7Y"
      }
    },
    {
      "cell_type": "markdown",
      "source": [
        "Answer 1. "
      ],
      "metadata": {
        "id": "w7YSpPAfP9SX"
      }
    },
    {
      "cell_type": "markdown",
      "source": [
        "**PR curve**: Precision v/s Recall. Precision = TP/(TP+FP); Recall=TP/(TP+FN)\n",
        "\n",
        "**ROC Curve**: TPR v/s FPR. TPR = TP/(TP+FN); FPR = FP/(TN+FP).\n",
        "\n",
        "True negative is irrelevant in plotting PR curve but is used to generate ROC curves. \n",
        "\n",
        "For any dataset and a given algorithm, both the ROC curve and PR curve contain the 'same points'. Every point on the ROC corresponds to a unique confusion matrix and all these points can be translated uniquely on the PR curve, that is, it is a one-to-one mapping. This is because, even though PR curve does not use TN values, the TN value for each point on PR point can be uniquely determined by using the other three values in the confusion matrix. Therefore, for every unique confusion matrix, a unique point can be plotted on ROC curve and PR curve and each point on ROC curve can be translated onto PR curve uniquely and vice-versa."
      ],
      "metadata": {
        "id": "NIcVJJJaXNSH"
      }
    },
    {
      "cell_type": "markdown",
      "source": [
        "Answer 2.\n"
      ],
      "metadata": {
        "id": "JlfEEHcRbb6e"
      }
    },
    {
      "cell_type": "code",
      "source": [
        "from google.colab import files\n",
        "uploaded = files.upload()"
      ],
      "metadata": {
        "colab": {
          "base_uri": "https://localhost:8080/",
          "height": 74
        },
        "id": "JBgJdC76vnVm",
        "outputId": "e7809e7e-c04a-4099-f194-f3121d3fcc57"
      },
      "execution_count": 90,
      "outputs": [
        {
          "output_type": "display_data",
          "data": {
            "text/plain": [
              "<IPython.core.display.HTML object>"
            ],
            "text/html": [
              "\n",
              "     <input type=\"file\" id=\"files-6bef0c08-764c-4519-ae75-07708e583d0b\" name=\"files[]\" multiple disabled\n",
              "        style=\"border:none\" />\n",
              "     <output id=\"result-6bef0c08-764c-4519-ae75-07708e583d0b\">\n",
              "      Upload widget is only available when the cell has been executed in the\n",
              "      current browser session. Please rerun this cell to enable.\n",
              "      </output>\n",
              "      <script>// Copyright 2017 Google LLC\n",
              "//\n",
              "// Licensed under the Apache License, Version 2.0 (the \"License\");\n",
              "// you may not use this file except in compliance with the License.\n",
              "// You may obtain a copy of the License at\n",
              "//\n",
              "//      http://www.apache.org/licenses/LICENSE-2.0\n",
              "//\n",
              "// Unless required by applicable law or agreed to in writing, software\n",
              "// distributed under the License is distributed on an \"AS IS\" BASIS,\n",
              "// WITHOUT WARRANTIES OR CONDITIONS OF ANY KIND, either express or implied.\n",
              "// See the License for the specific language governing permissions and\n",
              "// limitations under the License.\n",
              "\n",
              "/**\n",
              " * @fileoverview Helpers for google.colab Python module.\n",
              " */\n",
              "(function(scope) {\n",
              "function span(text, styleAttributes = {}) {\n",
              "  const element = document.createElement('span');\n",
              "  element.textContent = text;\n",
              "  for (const key of Object.keys(styleAttributes)) {\n",
              "    element.style[key] = styleAttributes[key];\n",
              "  }\n",
              "  return element;\n",
              "}\n",
              "\n",
              "// Max number of bytes which will be uploaded at a time.\n",
              "const MAX_PAYLOAD_SIZE = 100 * 1024;\n",
              "\n",
              "function _uploadFiles(inputId, outputId) {\n",
              "  const steps = uploadFilesStep(inputId, outputId);\n",
              "  const outputElement = document.getElementById(outputId);\n",
              "  // Cache steps on the outputElement to make it available for the next call\n",
              "  // to uploadFilesContinue from Python.\n",
              "  outputElement.steps = steps;\n",
              "\n",
              "  return _uploadFilesContinue(outputId);\n",
              "}\n",
              "\n",
              "// This is roughly an async generator (not supported in the browser yet),\n",
              "// where there are multiple asynchronous steps and the Python side is going\n",
              "// to poll for completion of each step.\n",
              "// This uses a Promise to block the python side on completion of each step,\n",
              "// then passes the result of the previous step as the input to the next step.\n",
              "function _uploadFilesContinue(outputId) {\n",
              "  const outputElement = document.getElementById(outputId);\n",
              "  const steps = outputElement.steps;\n",
              "\n",
              "  const next = steps.next(outputElement.lastPromiseValue);\n",
              "  return Promise.resolve(next.value.promise).then((value) => {\n",
              "    // Cache the last promise value to make it available to the next\n",
              "    // step of the generator.\n",
              "    outputElement.lastPromiseValue = value;\n",
              "    return next.value.response;\n",
              "  });\n",
              "}\n",
              "\n",
              "/**\n",
              " * Generator function which is called between each async step of the upload\n",
              " * process.\n",
              " * @param {string} inputId Element ID of the input file picker element.\n",
              " * @param {string} outputId Element ID of the output display.\n",
              " * @return {!Iterable<!Object>} Iterable of next steps.\n",
              " */\n",
              "function* uploadFilesStep(inputId, outputId) {\n",
              "  const inputElement = document.getElementById(inputId);\n",
              "  inputElement.disabled = false;\n",
              "\n",
              "  const outputElement = document.getElementById(outputId);\n",
              "  outputElement.innerHTML = '';\n",
              "\n",
              "  const pickedPromise = new Promise((resolve) => {\n",
              "    inputElement.addEventListener('change', (e) => {\n",
              "      resolve(e.target.files);\n",
              "    });\n",
              "  });\n",
              "\n",
              "  const cancel = document.createElement('button');\n",
              "  inputElement.parentElement.appendChild(cancel);\n",
              "  cancel.textContent = 'Cancel upload';\n",
              "  const cancelPromise = new Promise((resolve) => {\n",
              "    cancel.onclick = () => {\n",
              "      resolve(null);\n",
              "    };\n",
              "  });\n",
              "\n",
              "  // Wait for the user to pick the files.\n",
              "  const files = yield {\n",
              "    promise: Promise.race([pickedPromise, cancelPromise]),\n",
              "    response: {\n",
              "      action: 'starting',\n",
              "    }\n",
              "  };\n",
              "\n",
              "  cancel.remove();\n",
              "\n",
              "  // Disable the input element since further picks are not allowed.\n",
              "  inputElement.disabled = true;\n",
              "\n",
              "  if (!files) {\n",
              "    return {\n",
              "      response: {\n",
              "        action: 'complete',\n",
              "      }\n",
              "    };\n",
              "  }\n",
              "\n",
              "  for (const file of files) {\n",
              "    const li = document.createElement('li');\n",
              "    li.append(span(file.name, {fontWeight: 'bold'}));\n",
              "    li.append(span(\n",
              "        `(${file.type || 'n/a'}) - ${file.size} bytes, ` +\n",
              "        `last modified: ${\n",
              "            file.lastModifiedDate ? file.lastModifiedDate.toLocaleDateString() :\n",
              "                                    'n/a'} - `));\n",
              "    const percent = span('0% done');\n",
              "    li.appendChild(percent);\n",
              "\n",
              "    outputElement.appendChild(li);\n",
              "\n",
              "    const fileDataPromise = new Promise((resolve) => {\n",
              "      const reader = new FileReader();\n",
              "      reader.onload = (e) => {\n",
              "        resolve(e.target.result);\n",
              "      };\n",
              "      reader.readAsArrayBuffer(file);\n",
              "    });\n",
              "    // Wait for the data to be ready.\n",
              "    let fileData = yield {\n",
              "      promise: fileDataPromise,\n",
              "      response: {\n",
              "        action: 'continue',\n",
              "      }\n",
              "    };\n",
              "\n",
              "    // Use a chunked sending to avoid message size limits. See b/62115660.\n",
              "    let position = 0;\n",
              "    do {\n",
              "      const length = Math.min(fileData.byteLength - position, MAX_PAYLOAD_SIZE);\n",
              "      const chunk = new Uint8Array(fileData, position, length);\n",
              "      position += length;\n",
              "\n",
              "      const base64 = btoa(String.fromCharCode.apply(null, chunk));\n",
              "      yield {\n",
              "        response: {\n",
              "          action: 'append',\n",
              "          file: file.name,\n",
              "          data: base64,\n",
              "        },\n",
              "      };\n",
              "\n",
              "      let percentDone = fileData.byteLength === 0 ?\n",
              "          100 :\n",
              "          Math.round((position / fileData.byteLength) * 100);\n",
              "      percent.textContent = `${percentDone}% done`;\n",
              "\n",
              "    } while (position < fileData.byteLength);\n",
              "  }\n",
              "\n",
              "  // All done.\n",
              "  yield {\n",
              "    response: {\n",
              "      action: 'complete',\n",
              "    }\n",
              "  };\n",
              "}\n",
              "\n",
              "scope.google = scope.google || {};\n",
              "scope.google.colab = scope.google.colab || {};\n",
              "scope.google.colab._files = {\n",
              "  _uploadFiles,\n",
              "  _uploadFilesContinue,\n",
              "};\n",
              "})(self);\n",
              "</script> "
            ]
          },
          "metadata": {}
        },
        {
          "output_type": "stream",
          "name": "stdout",
          "text": [
            "Saving diabetes.csv to diabetes.csv\n"
          ]
        }
      ]
    },
    {
      "cell_type": "code",
      "source": [
        "dataset3 = pd.read_csv('diabetes.csv')"
      ],
      "metadata": {
        "id": "wK1BAiYjvt4y"
      },
      "execution_count": 92,
      "outputs": []
    },
    {
      "cell_type": "code",
      "source": [
        "from sklearn.linear_model import LogisticRegression\n",
        "from sklearn.ensemble import AdaBoostClassifier\n",
        "from sklearn.metrics import roc_curve\n",
        "from sklearn.metrics import precision_recall_curve\n",
        "\n",
        "# dataset1 = pd.read_csv('phoneme.csv')\n",
        "\n",
        "y = np.array(dataset3['Outcome'])\n",
        "dataset3.drop(columns=['Outcome'], inplace = True)\n",
        "\n",
        "X_train, X_test, y_train, y_test = train_test_split(dataset3, y, test_size=0.2)"
      ],
      "metadata": {
        "id": "eXOutG8Uec7J"
      },
      "execution_count": 93,
      "outputs": []
    },
    {
      "cell_type": "code",
      "source": [
        "#Logistic Regression\n",
        "\n",
        "lr_clf = LogisticRegression(max_iter=1000)\n",
        "lr_clf.fit(X_train, y_train)\n",
        "y_predicted_lr = lr_clf.predict(X_test)\n",
        "y_scores_lr = lr_clf.decision_function(X_test)\n",
        "\n",
        "lr_fpr, lr_tpr, lr_thresholds1 = roc_curve(y_test, y_scores_lr)\n",
        "lr_precision, lr_recall, lr_threshold2 = precision_recall_curve(y_test, y_scores_lr)"
      ],
      "metadata": {
        "id": "9V4hS31De72v"
      },
      "execution_count": 94,
      "outputs": []
    },
    {
      "cell_type": "code",
      "source": [
        "#ADABoost\n",
        "\n",
        "ab_clf = AdaBoostClassifier()\n",
        "ab_clf.fit(X_train, y_train)\n",
        "y_predicted_ab = ab_clf.predict(X_test)\n",
        "y_scores_ab = ab_clf.decision_function(X_test)\n",
        "\n",
        "ab_fpr, ab_tpr, ab_thresholds1 = roc_curve(y_test, y_scores_ab)\n",
        "ab_precision, ab_recall, ab_threshold2 = precision_recall_curve(y_test, y_scores_ab)"
      ],
      "metadata": {
        "id": "bc-a90XBiMhb"
      },
      "execution_count": 95,
      "outputs": []
    },
    {
      "cell_type": "code",
      "source": [
        "#AllPositive Classifier line\n",
        "\n",
        "fpr_ap, tpr_ap, thresholds_ap = roc_curve(y_test, np.ones(shape=y_test.shape), pos_label=1)\n",
        "precision_ap, recall_ap, thresholds_ap = precision_recall_curve(y_test, np.ones(shape=y_test.shape), pos_label=1)\n"
      ],
      "metadata": {
        "id": "PE2JA_3ogui2"
      },
      "execution_count": 96,
      "outputs": []
    },
    {
      "cell_type": "code",
      "source": [
        "# Plotting ROC curves\n",
        "\n",
        "fig, ax = plt.subplots(2, 1, figsize=(10, 8))\n",
        "fig.tight_layout(h_pad=4)\n",
        "\n",
        "plt.subplot(2,1,1)\n",
        "plt.plot(lr_fpr, lr_tpr, label='Logistic Regression')\n",
        "plt.plot(ab_fpr, ab_tpr, label='ADABoost')\n",
        "plt.plot(fpr_ap, tpr_ap, label='AllPositiveClassifier', linestyle='--')\n",
        "plt.xlabel('FPR')\n",
        "plt.ylabel('TPR')\n",
        "\n",
        "plt.title('ROC Curves')\n",
        "plt.legend()\n",
        "plt.grid()\n",
        "\n",
        "# Plotting PR curves\n",
        "\n",
        "plt.subplot(2,1,2)\n",
        "plt.plot(lr_recall, lr_precision, label='Logistic Regression')\n",
        "plt.plot(ab_recall, ab_precision, label='ADABoost')\n",
        "plt.plot(recall_ap, precision_ap, label='AllPositiveClassifier', linestyle='--')\n",
        "plt.xlabel('Recall')\n",
        "plt.ylabel('Precision')\n",
        "\n",
        "plt.title('PR Curves')\n",
        "plt.legend()\n",
        "plt.grid()"
      ],
      "metadata": {
        "colab": {
          "base_uri": "https://localhost:8080/",
          "height": 611
        },
        "id": "7VJq7eR4ixev",
        "outputId": "35d22bad-c92d-4925-c20c-2db839f6c3a4"
      },
      "execution_count": 97,
      "outputs": [
        {
          "output_type": "display_data",
          "data": {
            "text/plain": [
              "<Figure size 720x576 with 2 Axes>"
            ],
            "image/png": "[encoded data removed]"
          },
          "metadata": {
            "needs_background": "light"
          }
        }
      ]
    },
    {
      "cell_type": "markdown",
      "source": [
        "All positive classifier implies a classifier that classifies all the samples as positive. This implies TN and FN are 0. At such a point, TPR and FPR are equal to 1. Therefore, <br>\n",
        "1) On ROC curve, all positive classifier is at $(1,1)$. <br>\n",
        "2) On PR curve, an all positive classifier would be the point with Recall (which is TPR itself) equal to 1. $(1,0.4)$ is such point on the above PR curve plot."
      ],
      "metadata": {
        "id": "Jagbm7QHkAp_"
      }
    },
    {
      "cell_type": "markdown",
      "source": [
        "**Answer 4.3**"
      ],
      "metadata": {
        "id": "vgKmTjU1mRW3"
      }
    },
    {
      "cell_type": "code",
      "source": [
        "from sklearn.metrics import roc_auc_score\n",
        "from sklearn.metrics import auc\n",
        "\n",
        "#AUROC\n",
        "ADABoost_AUROC = roc_auc_score(y_test, y_predicted_ab)\n",
        "LR_AUROC = roc_auc_score(y_test, y_predicted_lr)\n",
        "\n",
        "#AUPR\n",
        "ADABoost_AUPR = auc(ab_recall, ab_precision)\n",
        "LR_AUPR = auc(lr_recall, lr_precision)\n",
        "\n",
        "#Printing values\n",
        "print('ADABoost AUROC: ', ADABoost_AUROC)\n",
        "print('Logistic Regression AUROC: ', LR_AUROC)\n",
        "print('\\n')\n",
        "print('ADABoost AUPR: ', ADABoost_AUPR)\n",
        "print('Logistic Regression AUPR: ', LR_AUPR)"
      ],
      "metadata": {
        "colab": {
          "base_uri": "https://localhost:8080/"
        },
        "id": "uvk_g-pHoVtI",
        "outputId": "c8fc8e66-a8cc-40a2-e124-b623c0275af8"
      },
      "execution_count": 98,
      "outputs": [
        {
          "output_type": "stream",
          "name": "stdout",
          "text": [
            "ADABoost AUROC:  0.6572222222222222\n",
            "Logistic Regression AUROC:  0.6864814814814816\n",
            "\n",
            "\n",
            "ADABoost AUPR:  0.6895343847417814\n",
            "Logistic Regression AUPR:  0.7071555300154646\n"
          ]
        }
      ]
    },
    {
      "cell_type": "code",
      "source": [
        "#Calculating PR Gain\n",
        "# !pip install pyprg\n",
        "from prg import prg\n",
        "\n",
        "ADABoost_PRGain_curve = prg.create_prg_curve(y_test, y_scores_ab)\n",
        "ADABoost_PRGain = prg.calc_auprg(ADABoost_PRGain_curve)\n",
        "\n",
        "LR_PRGain_curve = prg.create_prg_curve(y_test, y_scores_lr)\n",
        "LR_PRGain = prg.calc_auprg(LR_PRGain_curve)"
      ],
      "metadata": {
        "id": "6xIHUBNGk_TA"
      },
      "execution_count": 104,
      "outputs": []
    },
    {
      "cell_type": "code",
      "source": [
        "print('ADABoost PR Gain: ', ADABoost_PRGain)\n",
        "print('Logistic Regression PR Gain: ', LR_PRGain)"
      ],
      "metadata": {
        "colab": {
          "base_uri": "https://localhost:8080/"
        },
        "id": "hqLIPbXyl8A_",
        "outputId": "33e0908b-7675-44fd-8719-8de79f936254"
      },
      "execution_count": 105,
      "outputs": [
        {
          "output_type": "stream",
          "name": "stdout",
          "text": [
            "ADABoost PR Gain:  0.6617770337723119\n",
            "Logistic Regression PR Gain:  0.6950529773539966\n"
          ]
        }
      ]
    },
    {
      "cell_type": "markdown",
      "source": [
        "Yes, PR gain curves are better than PR curves.  The PR gain curves make up for the PR curves traditional behavior to neglect True Negatives. It has been observed that the area under traditional PR curves can easily favour models with lower expected F1 score than others, whereas with PR Gain curves, the area enclosed is related to expected F1 score - on a harmonic scale - in a similar way as area under the ROC curve is related to accuracy."
      ],
      "metadata": {
        "id": "1m0ZZM97mNke"
      }
    },
    {
      "cell_type": "code",
      "source": [],
      "metadata": {
        "id": "8nmEKldlULSN"
      },
      "execution_count": null,
      "outputs": []
    }
  ]
}